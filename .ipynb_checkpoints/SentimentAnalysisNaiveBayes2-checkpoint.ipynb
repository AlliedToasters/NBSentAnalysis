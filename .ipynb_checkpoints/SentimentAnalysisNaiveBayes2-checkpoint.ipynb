{
 "cells": [
  {
   "cell_type": "markdown",
   "metadata": {},
   "source": [
    "<H1>Naive Bayes Sentiment Analysis Challenge</H1><br><br>\n",
    "The challenge here is to use a naive Bayes classifier to create a sentiment analyzer. I went a little too far \"down the rabbit hole\" on this assignment, optimizing one feature construction technique and running with it. It was sorta fun anyway.<br><br>\n",
    "Sentiment raw data was taken from the <a href='https://archive.ics.uci.edu/ml/datasets/Sentiment+Labelled+Sentences'>UCI Machine Learning Repository.</a>"
   ]
  },
  {
   "cell_type": "code",
   "execution_count": 527,
   "metadata": {
    "collapsed": true
   },
   "outputs": [],
   "source": [
    "%matplotlib inline\n",
    "import numpy as np\n",
    "import pandas as pd\n",
    "import scipy\n",
    "import sklearn\n",
    "import matplotlib.pyplot as plt\n",
    "import seaborn as sns\n",
    "import re"
   ]
  },
  {
   "cell_type": "code",
   "execution_count": 528,
   "metadata": {},
   "outputs": [],
   "source": [
    "data = pd.read_csv('amazon_cells_labelled.txt', engine='python', header=None, sep=None)\n",
    "data.columns = ['text', 'sentiment']"
   ]
  },
  {
   "cell_type": "markdown",
   "metadata": {},
   "source": [
    "<H2>Generating Keywords for Features, Training, and Testing Models</H2><br>\n",
    "Rather than hand picking individual words for features, I decided to automate the process. I wrote three functions that look at the most common words that appear in positive and negative training data. The first method simply takes the most common words from each list. The second compares the list and only takes words that are common in one list and not the other. The third does a similar technique, but uses two depth parameters: one dictates the depth of the first list, the second dictates how far to search down the second list for a match to reject the keyword.<br><br>\n",
    "We use these functions and testing functions that instantiate, train, and test models later on to optimize performance."
   ]
  },
  {
   "cell_type": "code",
   "execution_count": 529,
   "metadata": {},
   "outputs": [],
   "source": [
    "def get_words(series):\n",
    "    words = []\n",
    "    for item in series:\n",
    "        words += item\n",
    "    return words\n",
    "\n",
    "def get_keywords_bsc(data, depth=100):\n",
    "    \"\"\"Easy keyword generator. Takes depth number of most common words with positive sentiment\n",
    "    and same number most common negative sentiment words and returns them in a list.\n",
    "    \"\"\"\n",
    "\n",
    "    positive_words = pd.Series(get_words(data[data['sentiment'] == 1].text.str.lower().str.split()))\n",
    "    negative_words = pd.Series(get_words(data[data['sentiment'] == 0].text.str.lower().str.split()))\n",
    "    pos_words = list(positive_words.value_counts().index)\n",
    "    neg_words = list(negative_words.value_counts().index)\n",
    "\n",
    "    keywords = []\n",
    "    keywords += pos_words[:depth]\n",
    "    keywords += neg_words[:depth]\n",
    "\n",
    "    return list(set(keywords)) #remove duplicates\n",
    "\n",
    "\n",
    "def get_keywords_elim1d(data, depth=100):\n",
    "    \"\"\"Compares each most common words (to n=depth) in each list against the n=depth most common\n",
    "    words in the opposite and adds to keywords only if not found in other list.\n",
    "    The idea is to find words that are unique to each sentiment.\n",
    "    \"\"\"\n",
    "    positive_words = pd.Series(get_words(data[data['sentiment'] == 1].text.str.lower().str.split()))\n",
    "    negative_words = pd.Series(get_words(data[data['sentiment'] == 0].text.str.lower().str.split()))\n",
    "    pos_words = list(positive_words.value_counts().index)\n",
    "    neg_words = list(negative_words.value_counts().index)\n",
    "\n",
    "    keywords = []\n",
    "    for word in pos_words[:depth]:\n",
    "        if word not in neg_words[:depth]:\n",
    "            keywords.append(word)\n",
    "    for word in neg_words[:depth]:\n",
    "        if word not in pos_words[:depth]:\n",
    "            keywords.append(word)\n",
    "\n",
    "    return list(set(keywords)) #remove duplicates\n",
    "\n",
    "\n",
    "def get_keywords_elim2d(data, depth1=100, depth2=100):\n",
    "    \"\"\"Compares the n=depth1 most common words in one list against the n=depth2 most common\n",
    "    words in the other list and adds to list if not found.\n",
    "    \"\"\"\n",
    "    def get_words(series):\n",
    "        words = []\n",
    "        for item in series:\n",
    "            words += item\n",
    "        return words\n",
    "\n",
    "    positive_words = pd.Series(get_words(data[data['sentiment'] == 1].text.str.lower().str.split()))\n",
    "    negative_words = pd.Series(get_words(data[data['sentiment'] == 0].text.str.lower().str.split()))\n",
    "    pos_words = list(positive_words.value_counts().index)\n",
    "    neg_words = list(negative_words.value_counts().index)\n",
    "\n",
    "    keywords = []\n",
    "    for word in pos_words[:depth1]:\n",
    "        if word not in neg_words[:depth2]:\n",
    "            keywords.append(word)\n",
    "    for word in neg_words[:depth1]:\n",
    "        if word not in pos_words[:depth2]:\n",
    "            keywords.append(word)\n",
    "            \n",
    "    return list(set(keywords))\n",
    "\n",
    "def run_NB(data, keywords):\n",
    "    \"\"\"runs the bernoulli naive bayes on the input data set, trained on matches with list of\n",
    "    keywords.\n",
    "    \"\"\"\n",
    "    num_keywords = len(keywords)\n",
    "    for key in keywords:\n",
    "        data[str(key)] = data.text.apply(lambda x: bool(re.search(key, x, re.IGNORECASE)))\n",
    "\n",
    "    data['positive_sentiment'] = np.where((data.sentiment == 1), True, False)\n",
    "\n",
    "    data_in = data[keywords]\n",
    "    target = data['positive_sentiment']\n",
    "\n",
    "    from sklearn.naive_bayes import BernoulliNB\n",
    "    bnb = BernoulliNB()\n",
    "    bnb.fit(data_in, target)\n",
    "    y_pred = bnb.predict(data_in)\n",
    "    \n",
    "    incorrect_predictions = (target != y_pred).sum()\n",
    "    correct_predictions = len(data_in) - incorrect_predictions\n",
    "    accuracy = 100 * (1 - incorrect_predictions/len(data_in))\n",
    "    \n",
    "    #print('number of mislabeled points out of total {} points: {}'.format((incorrect_predictions+correct_predictions), incorrect_predictions))\n",
    "    #print('Accuracy: {}%'.format(accuracy))\n",
    "    return accuracy\n",
    "\n",
    "def get_BNB(data, keywords):\n",
    "    \"\"\"runs the bernoulli naive bayes on the input data set, trained on matches with list of\n",
    "    keywords.\n",
    "    \"\"\"\n",
    "    num_keywords = len(keywords)\n",
    "    for key in keywords:\n",
    "        data[str(key)] = data.text.apply(lambda x: bool(re.search(key, x, re.IGNORECASE)))\n",
    "\n",
    "    data['positive_sentiment'] = np.where((data.sentiment == 1), True, False)\n",
    "\n",
    "    data_in = data[keywords]\n",
    "    target = data['positive_sentiment']\n",
    "\n",
    "    from sklearn.naive_bayes import BernoulliNB\n",
    "    bnb = BernoulliNB()\n",
    "    bnb.fit(data_in, target)\n",
    "    y_pred = bnb.predict(data_in)\n",
    "    \n",
    "    incorrect_predictions = (target != y_pred).sum()\n",
    "    correct_predictions = len(data_in) - incorrect_predictions\n",
    "    accuracy = 100 * (1 - incorrect_predictions/len(data_in))\n",
    "    \n",
    "    print('number of mislabeled points out of total {} points: {}'.format((incorrect_predictions+correct_predictions), incorrect_predictions))\n",
    "    print('Accuracy: {}%'.format(accuracy))\n",
    "    return bnb\n",
    "\n",
    "def test_model(model, data, keywords):\n",
    "    \"\"\"takes a trained model, data set, and keywords to build features on set\n",
    "    tests model performance.\n",
    "    \"\"\"\n",
    "    for key in keywords:\n",
    "        data[str(key)] = data.text.apply(lambda x: bool(re.search(key, x, re.IGNORECASE)))\n",
    "        \n",
    "    target = np.where((data.sentiment == 1), True, False)\n",
    "    y_pred = model.predict(data[keywords])\n",
    "    data_in = data[keywords]\n",
    "    \n",
    "    incorrect_predictions = (target != y_pred).sum()\n",
    "    correct_predictions = len(data_in) - incorrect_predictions\n",
    "    accuracy = 100 * (1 - incorrect_predictions/len(data_in))\n",
    "    \n",
    "    print('number of mislabeled points out of total {} points: {}'.format((incorrect_predictions+correct_predictions), incorrect_predictions))\n",
    "    print('Accuracy: {}%'.format(accuracy))"
   ]
  },
  {
   "cell_type": "markdown",
   "metadata": {},
   "source": [
    "<H2>Testing First (\"Basic\") Keyword Generation Method</H2><br>\n",
    "Here we run the first keyword generator at varying depths (from 1 to 300 words deep) and see which is the most accurate."
   ]
  },
  {
   "cell_type": "code",
   "execution_count": 530,
   "metadata": {},
   "outputs": [
    {
     "name": "stdout",
     "output_type": "stream",
     "text": [
      "best performance: depth       292\n",
      "keywords    418\n",
      "accuracy     85\n",
      "Name: 291, dtype: object.\n"
     ]
    },
    {
     "data": {
      "image/png": "[encoded data removed]",
      "text/plain": [
       "<matplotlib.figure.Figure at 0x7f9e8ca0d438>"
      ]
     },
     "metadata": {},
     "output_type": "display_data"
    }
   ],
   "source": [
    "acc = pd.DataFrame(index=range(1,300), columns=['depth', 'keywords', 'accuracy'])\n",
    "for n in range(1, 300):\n",
    "    acc.loc[n]['depth'] = 1+n\n",
    "    kwds = get_keywords_bsc(data, depth=(1+n))\n",
    "    acc.loc[n]['keywords'] = len(kwds)\n",
    "    acc.loc[n]['accuracy'] = run_NB(data, kwds)\n",
    "    \n",
    "\n",
    "print('best performance: {}.'.format(acc.loc[acc.accuracy.idxmax()]))\n",
    "    \n",
    "plt.plot(acc.depth);\n",
    "plt.plot(acc.keywords);\n",
    "plt.plot(acc.accuracy);\n",
    "plt.axvline(x=acc.accuracy.idxmax(), linestyle='dotted', color='black', label='best performance');\n",
    "plt.legend();\n",
    "plt.title('Basic Keyword Generator Performance');"
   ]
  },
  {
   "cell_type": "markdown",
   "metadata": {},
   "source": [
    "We see performance increase slightly with more depth and more keywords, but it approaches 85% accuaracy when run against the training set asymptotically. It looks like this is the best we can do with this method. <br><br>\n",
    "<H2>Testing Second (\"1D Elimination\") Method</H2><br>\n",
    "Here we test the elimination method at a range of \"depths\" for performance."
   ]
  },
  {
   "cell_type": "code",
   "execution_count": 531,
   "metadata": {},
   "outputs": [
    {
     "name": "stdout",
     "output_type": "stream",
     "text": [
      "best performance: depth        298\n",
      "keywords     256\n",
      "accuracy    83.8\n",
      "Name: 297, dtype: object.\n"
     ]
    },
    {
     "data": {
      "image/png": "[encoded data removed]",
      "text/plain": [
       "<matplotlib.figure.Figure at 0x7f9e8f0f6cc0>"
      ]
     },
     "metadata": {},
     "output_type": "display_data"
    }
   ],
   "source": [
    "acc = pd.DataFrame(index=range(1,300), columns=['depth', 'keywords', 'accuracy'])\n",
    "for n in range(1, 300):\n",
    "    acc.loc[n]['depth'] = 1+n\n",
    "    kwds = get_keywords_elim1d(data, depth=(1+n))\n",
    "    acc.loc[n]['keywords'] = len(kwds)\n",
    "    acc.loc[n]['accuracy'] = run_NB(data, kwds)\n",
    "    \n",
    "print('best performance: {}.'.format(acc.loc[acc.accuracy.idxmax()]))\n",
    "    \n",
    "plt.plot(acc.depth);\n",
    "plt.plot(acc.keywords);\n",
    "plt.axvline(x=acc.accuracy.idxmax(), linestyle='dotted', color='black', label='best performance');\n",
    "plt.plot(acc.accuracy);\n",
    "plt.legend();\n",
    "plt.title('1D Elimination Keyword Generator Performance');"
   ]
  },
  {
   "cell_type": "markdown",
   "metadata": {},
   "source": [
    "We see that best performance is actually a little lower than the first method, but very close. Still exhibiting asymptotic behavior, so this is probably close to the best we'll get.<br><br>\n",
    "<H2>Testing Third (\"2D Elimination\") Method</H2><br>\n",
    "Here we test the 2D Elimination method, which takes two parameters: The first tells us how deep to go down the first list of most common words of one sentiment, the second tells us how far to go down the second list (of opposite sentiment) and reject a word if it appears within that depth. To visualize performance, we use a heatmap. The deepest color in the parameter space represents the best performance. <br><br>To save time in computation, we step the parameters up by 10 each iteration."
   ]
  },
  {
   "cell_type": "code",
   "execution_count": 532,
   "metadata": {},
   "outputs": [
    {
     "data": {
      "text/plain": [
       "<matplotlib.axes._subplots.AxesSubplot at 0x7f9e6e3671d0>"
      ]
     },
     "execution_count": 532,
     "metadata": {},
     "output_type": "execute_result"
    },
    {
     "data": {
      "image/png": "[encoded data removed]",
      "text/plain": [
       "<matplotlib.figure.Figure at 0x7f9e6e367dd8>"
      ]
     },
     "metadata": {},
     "output_type": "display_data"
    }
   ],
   "source": [
    "rnge1 = range(20, 350, 10)\n",
    "rnge2 = range(20, 350, 10)\n",
    "acc = pd.DataFrame(index=rnge1, columns=rnge2)\n",
    "for row in acc.index:\n",
    "    for column in acc.columns:\n",
    "        acc.set_value(row, column, (row, column))\n",
    "        \n",
    "acc = acc.applymap(lambda x: get_keywords_elim2d(data, x[0], x[1]))\n",
    "acc = acc.applymap(lambda x: run_NB(data, x))\n",
    "sns.heatmap(acc)"
   ]
  },
  {
   "cell_type": "markdown",
   "metadata": {},
   "source": [
    "It looks like the lower left corner has the best performance. We'll take a closer look at a higher resolution for the optimal keywords:"
   ]
  },
  {
   "cell_type": "code",
   "execution_count": 533,
   "metadata": {},
   "outputs": [
    {
     "data": {
      "image/png": "[encoded data removed]",
      "text/plain": [
       "<matplotlib.figure.Figure at 0x7f9e8c6ec2e8>"
      ]
     },
     "metadata": {},
     "output_type": "display_data"
    }
   ],
   "source": [
    "rnge1 = range(340, 360, 1)\n",
    "rnge2 = range(30, 40, 1)\n",
    "acc2 = pd.DataFrame(index=rnge1, columns=rnge2)\n",
    "for row in acc2.index:\n",
    "    for column in acc2.columns:\n",
    "        acc2.set_value(row, column, (row, column))\n",
    "        \n",
    "acc2 = acc2.applymap(lambda x: get_keywords_elim2d(data, x[0], x[1]))\n",
    "acc2 = acc2.applymap(lambda x: run_NB(data, x))\n",
    "sns.heatmap(acc2);"
   ]
  },
  {
   "cell_type": "markdown",
   "metadata": {},
   "source": [
    "And train our model, \"best_model,\" on that highest performing pair of parameters."
   ]
  },
  {
   "cell_type": "code",
   "execution_count": 534,
   "metadata": {},
   "outputs": [
    {
     "name": "stdout",
     "output_type": "stream",
     "text": [
      "number of mislabeled points out of total 1000 points: 137\n",
      "Accuracy: 86.3%\n"
     ]
    }
   ],
   "source": [
    "best_keywords = get_keywords_elim2d(data, 343, 34)\n",
    "best_model = get_BNB(data, best_keywords)"
   ]
  },
  {
   "cell_type": "markdown",
   "metadata": {},
   "source": [
    "We were able to improve very slightly on the basic keyword generator.<br><br>\n",
    "<H2>Testing our Amazon.com-Trained Models Against Others</H2><br>\n",
    "Let's see how our models do on the other data sets."
   ]
  },
  {
   "cell_type": "code",
   "execution_count": 546,
   "metadata": {},
   "outputs": [
    {
     "name": "stdout",
     "output_type": "stream",
     "text": [
      "number of mislabeled points out of total 1000 points: 366\n",
      "Accuracy: 63.4%\n",
      "number of mislabeled points out of total 1000 points: 407\n",
      "Accuracy: 59.3%\n"
     ]
    }
   ],
   "source": [
    "#we'll compare our \"best\" model to these more conservative ones to check for overfitting.\n",
    "basic_keywords = get_keywords_bsc(data, depth=10)\n",
    "conservative_model = get_BNB(data, basic_keywords)\n",
    "keywords_1d = get_keywords_elim1d(data, depth=10)\n",
    "cons_1d_model = get_BNB(data, keywords_1d)"
   ]
  },
  {
   "cell_type": "code",
   "execution_count": 547,
   "metadata": {},
   "outputs": [],
   "source": [
    "imdb_data = pd.read_csv('imdb_labelled.txt', engine='python', header=None, sep='\\t', quoting=3)\n",
    "imdb_data.columns = ['text', 'sentiment']"
   ]
  },
  {
   "cell_type": "code",
   "execution_count": 548,
   "metadata": {},
   "outputs": [
    {
     "name": "stdout",
     "output_type": "stream",
     "text": [
      "number of mislabeled points out of total 1000 points: 342\n",
      "Accuracy: 65.8%\n",
      "number of mislabeled points out of total 1000 points: 431\n",
      "Accuracy: 56.89999999999999%\n",
      "number of mislabeled points out of total 1000 points: 468\n",
      "Accuracy: 53.2%\n"
     ]
    }
   ],
   "source": [
    "test_model(best_model, imdb_data, best_keywords)\n",
    "test_model(conservative_model, imdb_data, basic_keywords)\n",
    "test_model(cons_1d_model, imdb_data, keywords_1d)"
   ]
  },
  {
   "cell_type": "code",
   "execution_count": 549,
   "metadata": {},
   "outputs": [],
   "source": [
    "yelp_data = pd.read_csv('yelp_labelled.txt', engine='python', header=None, sep='\\t', quoting=3)"
   ]
  },
  {
   "cell_type": "code",
   "execution_count": 550,
   "metadata": {},
   "outputs": [
    {
     "name": "stdout",
     "output_type": "stream",
     "text": [
      "number of mislabeled points out of total 1000 points: 283\n",
      "Accuracy: 71.7%\n",
      "number of mislabeled points out of total 1000 points: 395\n",
      "Accuracy: 60.5%\n",
      "number of mislabeled points out of total 1000 points: 412\n",
      "Accuracy: 58.80000000000001%\n"
     ]
    }
   ],
   "source": [
    "yelp_data.columns=['text', 'sentiment']\n",
    "test_model(best_model, yelp_data, best_keywords)\n",
    "test_model(conservative_model, yelp_data, basic_keywords)\n",
    "test_model(cons_1d_model, yelp_data, keywords_1d)"
   ]
  },
  {
   "cell_type": "markdown",
   "metadata": {},
   "source": [
    "It looks like our \"best model\" is still the best performer when tried on these other sets. Of course, yelp and imdb are going to look very different, but the fact that the best model still does a little better suggests that we are not overfitting compared to the other models.<br><br>\n",
    "\n",
    "<H2>Conclusion</H2><br>\n",
    "\n",
    "Just working with single-word features, we were able to optimize our Naive Baye's model to above 85% accuracy on the training set. This \"best model\" performed best when compared to some weaker-fitting models on other sentiment data sets, suggesting it may indeed be the best we can do using this technique."
   ]
  },
  {
   "cell_type": "code",
   "execution_count": null,
   "metadata": {
    "collapsed": true
   },
   "outputs": [],
   "source": []
  }
 ],
 "metadata": {
  "kernelspec": {
   "display_name": "Python 3",
   "language": "python",
   "name": "python3"
  },
  "language_info": {
   "codemirror_mode": {
    "name": "ipython",
    "version": 3
   },
   "file_extension": ".py",
   "mimetype": "text/x-python",
   "name": "python",
   "nbconvert_exporter": "python",
   "pygments_lexer": "ipython3",
   "version": "3.6.1"
  }
 },
 "nbformat": 4,
 "nbformat_minor": 2
}
